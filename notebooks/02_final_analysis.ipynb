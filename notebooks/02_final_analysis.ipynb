{
 "cells": [
  {
   "cell_type": "markdown",
   "metadata": {},
   "source": [
    "# Brent Oil Price Analysis - Final Report\n",
    "\n",
    "This notebook contains the complete analysis of Brent crude oil price changes in relation to major global events, using Bayesian change point detection."
   ]
  },
  {
   "cell_type": "code",
   "execution_count": null,
   "metadata": {},
   "outputs": [],
   "source": [
    "# Import required libraries\n",
    "import pandas as pd\n",
    "import numpy as np\n",
    "import matplotlib.pyplot as plt\n",
    "import seaborn as sns\n",
    "import pymc3 as pm\n",
    "import arviz as az\n",
    "from pathlib import Path\n",
    "from statsmodels.tsa.stattools import adfuller, kpss\n",
    "from statsmodels.graphics.tsaplots import plot_acf, plot_pacf\n",
    "import warnings\n",
    "warnings.filterwarnings('ignore')\n",
    "\n",
    "# Set style\n",
    "sns.set(style='whitegrid')\n",
    "plt.rcParams['figure.figsize'] = [14, 6]\n",
    "plt.rcParams['figure.dpi'] = 100"
   ]
  },
  {
   "cell_type": "markdown",
   "metadata": {},
   "source": [
    "## 1. Data Loading and Preprocessing"
   ]
  },
  {
   "cell_type": "code",
   "execution_count": null,
   "metadata": {},
   "outputs": [],
   "source": [
    "# Define file paths\n",
    "data_dir = Path('../data')\n",
    "raw_data_path = data_dir / 'raw/BrentOilPrices.csv'\n",
    "events_path = data_dir / 'raw/events_tabdata.csv'\n",
    "\n",
    "# Load data\n",
    "prices_df = pd.read_csv(raw_data_path, parse_dates=['Date'], dayfirst=True)\n",
    "events_df = pd.read_csv(events_path, parse_dates=['event_date'])\n",
    "\n",
    "# Sort by date and set as index\n",
    "prices_df = prices_df.sort_values('Date').set_index('Date')\n
